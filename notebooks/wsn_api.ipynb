{
  "nbformat": 4,
  "nbformat_minor": 0,
  "metadata": {
    "colab": {
      "provenance": []
    },
    "kernelspec": {
      "name": "python3",
      "display_name": "Python 3"
    },
    "language_info": {
      "name": "python"
    }
  },
  "cells": [
    {
      "cell_type": "markdown",
      "source": [
        "# The WSN Package"
      ],
      "metadata": {
        "id": "oqqbPLJJ-2SX"
      }
    },
    {
      "cell_type": "markdown",
      "source": [
        "This document is intended to present the usage of the UOA Weather Station Network high level API for accessing data measurments from the backend storage system, reading station telemetry and setting asynchronous commands to stations."
      ],
      "metadata": {
        "id": "Mu3J6E6t-8Fh"
      }
    },
    {
      "cell_type": "code",
      "execution_count": 1,
      "metadata": {
        "id": "OY8Go5vj-fN6"
      },
      "outputs": [],
      "source": [
        "'''\n",
        "    Creator : Ronaldo Tsela\n",
        "    Date    : 31/7/2023\n",
        "    Project : Weather Station Network\n",
        "    Description : This package was intended to provide the intermediate interface to the low\n",
        "                  level API for the user intended to build applications\n",
        "'''\n",
        "import requests\n",
        "import pandas as pd\n",
        "import numpy as np\n",
        "\n",
        "class Weather_Station_Backend_Controller:\n",
        "    def __init__(self, server_root):\n",
        "        '''\n",
        "            set the route URLs used to access the different backend handlers\n",
        "        '''\n",
        "        self.root = server_root\n",
        "        self.url_telemFile= f\"http://{self.root}//station//telemetry_files//\" # route URL for the telemetry files\n",
        "        self.url_stats    = f\"http://{self.root}//api//data//stats.php?\" # route URL for the statistics generator handler\n",
        "        self.url_daily    = f\"http://{self.root}//api//data//daily.php?\" # route URL for the daily data generator handler\n",
        "        self.url_dataset  = f\"http://{self.root}//api//data//dataset.php?\" # route URL for the dataset generator handler\n",
        "        self.url_cmdTX    = f\"http://{self.root}//station//command/cmd_rx.php?\" # route URL for the command transmiter handler\n",
        "\n",
        "    def get_data(self, station_id):\n",
        "        '''\n",
        "            This function reads the daily data collected by a specific station.\n",
        "            The return value is a pandas dataframe with the aforementioned data recordings.\n",
        "            The features are:\n",
        "            Date (UTM-Date YYYY-MM-DD),\n",
        "            Time(UTM-time HH:mm:ss),\n",
        "            Temperature (float64),\n",
        "            Humidity (float64), P\n",
        "            ressure (float64)\n",
        "            Wind_Speed (float64),\n",
        "            Wind_Direction (float64),\n",
        "            Rainfall (float64)\n",
        "\n",
        "            @station_id : the unique station identifier of the form stxx\n",
        "        '''\n",
        "        response = requests.post(self.url_daily+f'&st={station_id}')\n",
        "        data_str_list = (response.text).split('\\n')\n",
        "\n",
        "        data_df = pd.DataFrame()\n",
        "        output_list=[]\n",
        "        for i in range(len(data_str_list)-1):\n",
        "            data_list = (data_str_list[i].strip()).split(',')\n",
        "            output_list.append(data_list)\n",
        "\n",
        "        columns=['Station_ID', 'Date', 'Time', 'Temperature', 'Humidity', 'Pressure', 'Wind_Speed', 'Wind_Direction', 'Rainfall']\n",
        "\n",
        "        data_df = pd.DataFrame(output_list,columns=columns)\n",
        "\n",
        "        del data_df['Station_ID']\n",
        "\n",
        "        return data_df\n",
        "\n",
        "\n",
        "    def get_stats(self, station_id):\n",
        "        '''\n",
        "            This function reads the statistics on daily basis.\n",
        "            The return values are three pandas dataframe and one float64 single value.\n",
        "            The three pandas dataframe contain the minimum, the maximum and the average of the daily weather values recorded.\n",
        "            The float64 refers to the ccumulated rainfall.\n",
        "            Each pandas dataframe contain values that refere to the features:\n",
        "            Temperature (float64), Humidity (float64), Pressure (float64),\n",
        "            Wind_Speed (float64), Rainfall (float64)\n",
        "\n",
        "            @station_id : the unique station identifier\n",
        "        '''\n",
        "        response = requests.post(self.url_stats+f'&st={station_id}')\n",
        "\n",
        "        stat_data_str_list = response.text.split('\\n')\n",
        "\n",
        "        min = stat_data_str_list[0].strip().split(',')\n",
        "        max = stat_data_str_list[1].strip().split(',')\n",
        "        avg = stat_data_str_list[2].strip().split(',')\n",
        "        total_rain_rate = stat_data_str_list[3].strip()\n",
        "\n",
        "        min_df = pd.DataFrame(min).transpose()\n",
        "        min_df.columns=['Temperature', 'Humidity', 'Pressure', 'Wind_Speed', 'Rainfall']\n",
        "\n",
        "        max_df = pd.DataFrame(max).transpose()\n",
        "        max_df.columns=['Temperature', 'Humidity', 'Pressure', 'Wind_Speed', 'Rainfall']\n",
        "\n",
        "        avg_df = pd.DataFrame(avg).transpose()\n",
        "        avg_df.columns=['Temperature', 'Humidity', 'Pressure', 'Wind_Speed', 'Rainfall']\n",
        "\n",
        "        return min_df, max_df, avg_df, total_rain_rate\n",
        "\n",
        "\n",
        "    def get_telemetry(self, station_id):\n",
        "        '''\n",
        "            This function reads the telemetry for every station.\n",
        "            The return value is a pandas dataframe containing the telemetry data.\n",
        "            The features are:\n",
        "            Date (UTM-Date YYYY-MM-DD),\n",
        "            Time (UTM-Time HH:mm:ss),\n",
        "            Internal Temperature (float64),\n",
        "            Bus Voltage (float64)\n",
        "            Bus Current (float64),\n",
        "            Solar_Voltage (float64),\n",
        "            Heartbeat (unsigned int),\n",
        "            Mode (unsigned int)\n",
        "        '''\n",
        "        response = requests.post(self.url_telemFile+f'telemetry_{station_id}')\n",
        "\n",
        "        telem_data_df = (response.text.strip()).split(',')\n",
        "\n",
        "        telem_data_df = pd.DataFrame(telem_data_df).transpose()\n",
        "        telem_data_df.columns= ['Date', 'Time', 'Temperature', 'Bus_Voltage', 'Bus_Current', 'Solar_Voltage', 'Heartbeat', 'Mode']\n",
        "        telem_data_df['Temperature'] = round(float(telem_data_df['Temperature'][0]), 2)\n",
        "        telem_data_df['Bus_Voltage'] = round(float(telem_data_df['Bus_Voltage'][0]), 2)\n",
        "        telem_data_df['Bus_Current'] = round(float(telem_data_df['Bus_Current'][0]), 2)\n",
        "        telem_data_df['Solar_Voltage'] = round(float(telem_data_df['Solar_Voltage'][0]), 2)\n",
        "\n",
        "        return telem_data_df\n",
        "\n",
        "\n",
        "    def get_dataset(self, station_id, from_day, from_month, from_year, to_day, to_month, to_year):\n",
        "        '''\n",
        "            The function creates a dataset of choise between two given dates.\n",
        "            The return value is the number of recordings that fit to the given\n",
        "            dates and a pandas data frame with the exact recordings.\n",
        "            The features contained are:\n",
        "            Date (UTM-Date YYYY-MM-DD),\n",
        "            Time(UTM-time HH:mm:ss),\n",
        "            Temperature (float64),\n",
        "            Humidity (float64),\n",
        "            Pressure (float64)\n",
        "            Wind_Speed (float64),\n",
        "            Wind_Direction (float64),\n",
        "            Rainfall (float64)\n",
        "\n",
        "            @station_id : the unique station identifier\n",
        "            @from_day   : the starting day\n",
        "            @from_month : the starting month\n",
        "            @from_year  : the starting year\n",
        "            @to_day     : the ending day\n",
        "            @to_month   : the ending month\n",
        "            @to_year    : the ending year\n",
        "        '''\n",
        "        data = f'&st={station_id}&from_day={from_day}&from_month={from_month}&from_year={from_year}&to_day={to_day}&to_month={to_month}&to_year={to_year}'\n",
        "        data_str_list = ((requests.post(self.url_dataset+data)).text).split('\\n')\n",
        "\n",
        "        cnt = len(data_str_list)\n",
        "\n",
        "        data_df = pd.DataFrame()\n",
        "        data_list_appended = []\n",
        "\n",
        "        if(cnt-1==0):\n",
        "            return cnt-1, -1\n",
        "        else:\n",
        "            for i in range(cnt-1):\n",
        "                data_list = (data_str_list[i].strip()).split(',')\n",
        "                data_list_appended.append(data_list)\n",
        "\n",
        "            col = ['Station_ID', 'Date', 'Time', 'Temperature', 'Humidity', 'Pressure', 'Wind_Speed', 'Wind_Direction', 'Rainfall']\n",
        "            data_df = pd.DataFrame(data_list_appended, columns=col)\n",
        "\n",
        "            del data_df['Station_ID']\n",
        "\n",
        "            return cnt-1, data_df\n",
        "\n",
        "    def set_command(self, station_id, command_id, argument):\n",
        "        '''\n",
        "            This function sets a command for the target station to execute. Commands are\n",
        "            executed asynchronously\n",
        "\n",
        "            command_id |  argument  |  action\n",
        "            ----------------------------------\n",
        "                0      |     0      | reset\n",
        "                1      |     0      | normal\n",
        "                1      |     1      | fast\n",
        "                1      |     2      | slow\n",
        "                1      |     3      | power save\n",
        "                2      |     0      | shut down\n",
        "                2      |     1      | init\n",
        "\n",
        "            When the transmission is valid an OK (200) signal will be returned\n",
        "\n",
        "            @station_id : the unique station identifier\n",
        "            @command_id : the commands identifier to trigger\n",
        "            @argument   : the argument passed to the command trigger\n",
        "        '''\n",
        "        response = requests.post(self.url_cmdTX+f'&id={station_id}&cmd={command_id}&arg={argument}')\n",
        "        return response.text"
      ]
    },
    {
      "cell_type": "markdown",
      "source": [
        "## Instantiate the weather station backend controller object.\n",
        "The server_root variable holds the root directory in your server used to hold the structure of the backend system."
      ],
      "metadata": {
        "id": "MAT4kyhQ_5MQ"
      }
    },
    {
      "cell_type": "code",
      "source": [
        "server_root = \"your-server-root-dir\"\n",
        "wsn_cntl = Weather_Station_Backend_Controller(server_root)"
      ],
      "metadata": {
        "id": "If9p3xHD-h4T"
      },
      "execution_count": 2,
      "outputs": []
    },
    {
      "cell_type": "markdown",
      "source": [
        "## Call the `daily` handler\n",
        "This handler returns the data collected the current day by the specified `stxx` station"
      ],
      "metadata": {
        "id": "psGAb4e_BCNb"
      }
    },
    {
      "cell_type": "code",
      "source": [
        "daily_data = wsn_cntl.get_data('st00')\n",
        "print(daily_data)"
      ],
      "metadata": {
        "colab": {
          "base_uri": "https://localhost:8080/"
        },
        "id": "dOh8WU64_zXi",
        "outputId": "46894c64-c0de-46c3-fed2-2c12a6ec1a86"
      },
      "execution_count": 3,
      "outputs": [
        {
          "output_type": "stream",
          "name": "stdout",
          "text": [
            "Empty DataFrame\n",
            "Columns: [Date, Time, Temperature, Humidity, Pressure, Wind_Speed, Wind_Direction, Rainfall]\n",
            "Index: []\n"
          ]
        }
      ]
    },
    {
      "cell_type": "markdown",
      "source": [
        "## Call the `stats` handler\n",
        "This handler returns the statistics for measurements collected the current day by the specified `stxx` station"
      ],
      "metadata": {
        "id": "MSTOagpQBgXk"
      }
    },
    {
      "cell_type": "code",
      "source": [
        "stats = wsn_cntl.get_stats('st00')\n",
        "print(stats)"
      ],
      "metadata": {
        "colab": {
          "base_uri": "https://localhost:8080/"
        },
        "id": "iMdTy76sAosp",
        "outputId": "473104f0-1c2c-4a8c-b885-5986907bf545"
      },
      "execution_count": 4,
      "outputs": [
        {
          "output_type": "stream",
          "name": "stdout",
          "text": [
            "(  Temperature Humidity Pressure Wind_Speed Rainfall\n",
            "0                                                  ,   Temperature Humidity Pressure Wind_Speed Rainfall\n",
            "0                                                  ,   Temperature Humidity Pressure Wind_Speed Rainfall\n",
            "0                                                  , '')\n"
          ]
        }
      ]
    },
    {
      "cell_type": "markdown",
      "source": [
        "## Call the `telemetry` handler\n",
        "This handler returns the telemetry for a specified station `stxx`"
      ],
      "metadata": {
        "id": "gMjZg9suB-wE"
      }
    },
    {
      "cell_type": "code",
      "source": [
        "telemetry = wsn_cntl.get_telemetry('st00')\n",
        "print(telemetry)"
      ],
      "metadata": {
        "colab": {
          "base_uri": "https://localhost:8080/"
        },
        "id": "XzYsThpuBdTZ",
        "outputId": "ff53d873-37f5-4418-fa1f-b5fe4acef775"
      },
      "execution_count": 5,
      "outputs": [
        {
          "output_type": "stream",
          "name": "stdout",
          "text": [
            "         Date      Time  Temperature  Bus_Voltage  Bus_Current  Solar_Voltage  \\\n",
            "0  2024/03/14  12:06:20        74.53         5.22         1.48           0.15   \n",
            "\n",
            "  Heartbeat Mode  \n",
            "0     12737    1  \n"
          ]
        }
      ]
    },
    {
      "cell_type": "markdown",
      "source": [
        "## Call the `dataset` handler\n",
        "This handler constructs a dataset in range `(from_day-from_month-from_year, to_day-to_month-to_year)` using stored data in the database as collected by the specified station `stxx`"
      ],
      "metadata": {
        "id": "ChIctEYgCwFe"
      }
    },
    {
      "cell_type": "code",
      "source": [
        "from_day = 28\n",
        "from_month = 1\n",
        "from_year = 2024\n",
        "\n",
        "to_day = 30\n",
        "to_month = 1\n",
        "to_year = 2024\n",
        "\n",
        "dataset = wsn_cntl.get_dataset('st00', from_day, from_month, from_year, to_day, to_month, to_year)\n",
        "print(dataset)"
      ],
      "metadata": {
        "colab": {
          "base_uri": "https://localhost:8080/"
        },
        "id": "HTP7L_H4CuEw",
        "outputId": "571dafa0-badc-4fe3-a7c9-30a3f6002653"
      },
      "execution_count": 6,
      "outputs": [
        {
          "output_type": "stream",
          "name": "stdout",
          "text": [
            "(827,            Date      Time Temperature Humidity Pressure Wind_Speed  \\\n",
            "0    2024-01-28  00:03:30        11.5     38.9  1021.39       41.2   \n",
            "1    2024-01-28  00:08:43        11.5     39.2  1021.22       45.5   \n",
            "2    2024-01-28  00:13:57        11.5     39.4  1021.58      47.74   \n",
            "3    2024-01-28  00:19:10        11.4     39.5  1021.71      31.07   \n",
            "4    2024-01-28  00:24:24        11.3     39.8  1021.87      26.78   \n",
            "..          ...       ...         ...      ...      ...        ...   \n",
            "822  2024-01-30  23:38:38         4.1     92.8  1027.15      34.83   \n",
            "823  2024-01-30  23:43:52           4     92.8  1027.04       25.1   \n",
            "824  2024-01-30  23:49:06         3.8     92.8  1026.92      23.34   \n",
            "825  2024-01-30  23:54:19         3.9     92.8  1026.78      20.87   \n",
            "826  2024-01-30  23:59:32           4     92.8   1027.1      24.83   \n",
            "\n",
            "    Wind_Direction Rainfall  \n",
            "0              225        0  \n",
            "1              180        0  \n",
            "2              135        0  \n",
            "3              225        0  \n",
            "4              180        0  \n",
            "..             ...      ...  \n",
            "822          202.5     0.54  \n",
            "823            225        0  \n",
            "824            225     0.27  \n",
            "825            225        0  \n",
            "826            270     0.27  \n",
            "\n",
            "[827 rows x 8 columns])\n"
          ]
        }
      ]
    },
    {
      "cell_type": "markdown",
      "source": [
        "## Call the `cmd_rx` handler\n",
        "This handler sets a commad for the specified station `stxx` which is executed esynchronously."
      ],
      "metadata": {
        "id": "opsV8FewDX2Y"
      }
    },
    {
      "cell_type": "code",
      "source": [
        "cmd_resp = wsn_cntl.set_command('st00', 1, 0)\n",
        "print(cmd_resp)"
      ],
      "metadata": {
        "colab": {
          "base_uri": "https://localhost:8080/"
        },
        "id": "_UbnkvBqDQRy",
        "outputId": "0277a031-3da2-4d34-b5bd-d8405f05e836"
      },
      "execution_count": 7,
      "outputs": [
        {
          "output_type": "stream",
          "name": "stdout",
          "text": [
            "$1, 0$\n"
          ]
        }
      ]
    }
  ]
}